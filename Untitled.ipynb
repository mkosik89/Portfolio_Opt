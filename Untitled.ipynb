{
 "cells": [
  {
   "cell_type": "code",
   "execution_count": 1,
   "metadata": {},
   "outputs": [],
   "source": [
    "import pandas as pd\n",
    "import numpy as np\n",
    "import cvxpy as cp"
   ]
  },
  {
   "cell_type": "code",
   "execution_count": 8,
   "metadata": {},
   "outputs": [],
   "source": [
    "x = np.random.normal(size=(4000,185))\n",
    "y = np.random.normal(size=(4000,20))\n",
    "\n",
    "b = np.random.normal(size=(185,20))\n",
    "# beta like 185,20"
   ]
  },
  {
   "cell_type": "code",
   "execution_count": null,
   "metadata": {},
   "outputs": [],
   "source": []
  },
  {
   "cell_type": "code",
   "execution_count": 38,
   "metadata": {},
   "outputs": [],
   "source": [
    "def loss_fn(X, Y, beta):\n",
    "    yPred = X @ beta\n",
    "    r = cp.sum(yPred,axis=1) / x.shape[1]\n",
    "    u = cp.sum(r)/x.shape[0]\n",
    "    d = cp.sum_squares(r - u) / x.shape[0]\n",
    "#     d = r.std()\n",
    "    \n",
    "    return -u*np.sqrt(252)/d"
   ]
  },
  {
   "cell_type": "code",
   "execution_count": 39,
   "metadata": {},
   "outputs": [],
   "source": [
    "beta = cp.Variable(shape=(x.shape[1],y.shape[1]))"
   ]
  },
  {
   "cell_type": "code",
   "execution_count": 40,
   "metadata": {},
   "outputs": [
    {
     "data": {
      "text/plain": [
       "Expression(CONSTANT, UNKNOWN, ())"
      ]
     },
     "execution_count": 40,
     "metadata": {},
     "output_type": "execute_result"
    }
   ],
   "source": [
    "loss_fn(x,y,b)"
   ]
  },
  {
   "cell_type": "code",
   "execution_count": 18,
   "metadata": {},
   "outputs": [
    {
     "data": {
      "text/plain": [
       "array([[  3.1359818 ,  -0.55135156,  10.90512603, ...,  -6.0106164 ,\n",
       "         11.55631586, -16.16241687],\n",
       "       [  3.93250269, -11.66511447,  -9.81741735, ..., -37.85309764,\n",
       "          5.32520046, -19.44579989],\n",
       "       [ 18.56325509, -12.71353352,  12.40055412, ..., -23.09564942,\n",
       "         13.99024159, -18.93152754],\n",
       "       ...,\n",
       "       [  1.7583657 , -26.09830738,   4.34235704, ...,  20.51612609,\n",
       "          4.96134008,   5.48467933],\n",
       "       [-13.51486159,  23.3243205 , -10.6317612 , ...,  31.99749573,\n",
       "          9.75635517,  -4.32556745],\n",
       "       [ -9.47292169,  35.06561753,  -5.1516284 , ...,   0.37525687,\n",
       "         -1.55045197,  14.38308337]])"
      ]
     },
     "execution_count": 18,
     "metadata": {},
     "output_type": "execute_result"
    }
   ],
   "source": [
    "x @ b"
   ]
  },
  {
   "cell_type": "code",
   "execution_count": 11,
   "metadata": {},
   "outputs": [],
   "source": [
    "yp = x @ b"
   ]
  },
  {
   "cell_type": "code",
   "execution_count": 12,
   "metadata": {},
   "outputs": [
    {
     "data": {
      "text/plain": [
       "(4000, 20)"
      ]
     },
     "execution_count": 12,
     "metadata": {},
     "output_type": "execute_result"
    }
   ],
   "source": [
    "yp.shape"
   ]
  },
  {
   "cell_type": "code",
   "execution_count": null,
   "metadata": {},
   "outputs": [],
   "source": []
  },
  {
   "cell_type": "code",
   "execution_count": 41,
   "metadata": {},
   "outputs": [],
   "source": [
    "prob = cp.Problem(cp.Minimize(loss_fn(x,y,beta)))"
   ]
  },
  {
   "cell_type": "code",
   "execution_count": 42,
   "metadata": {},
   "outputs": [
    {
     "ename": "DCPError",
     "evalue": "Problem does not follow DCP rules. Specifically:\nThe objective is not DCP. Its following subexpressions are not:\n-Sum(Sum([[-1.70199643e+00 -1.81665871e+00 -1.57765705e+00 ...  6.25850084e-01\n   6.38866984e-01  1.19814933e-01]\n [ 9.20582545e-01 -1.99512185e-02 -8.23713722e-01 ... -7.78472889e-01\n   5.33787887e-01 -3.85009218e-01]\n [-1.69474645e+00  9.59712683e-01  1.66404530e+00 ... -7.02003246e-01\n   8.11991820e-02 -6.36092147e-02]\n ...\n [ 2.02561319e-01  9.18846251e-01  5.28461288e-01 ...  1.10894912e+00\n  -3.60968328e-01  1.25433547e+00]\n [ 8.09965107e-01 -9.57875430e-04  5.75116700e-01 ...  9.98085925e-02\n  -1.24154860e+00 -2.55383484e-01]\n [-3.48437071e-01  3.01584511e-01 -2.89304802e-01 ...  8.81382791e-01\n   2.67392607e-01 -1.10580750e-01]] @ var63, 1, False) / Promote(185.0, (4000,)), None, False) / 4000.0 @ 15.874507866387544 / (quad_over_lin(Sum([[-1.70199643e+00 -1.81665871e+00 -1.57765705e+00 ...  6.25850084e-01\n   6.38866984e-01  1.19814933e-01]\n [ 9.20582545e-01 -1.99512185e-02 -8.23713722e-01 ... -7.78472889e-01\n   5.33787887e-01 -3.85009218e-01]\n [-1.69474645e+00  9.59712683e-01  1.66404530e+00 ... -7.02003246e-01\n   8.11991820e-02 -6.36092147e-02]\n ...\n [ 2.02561319e-01  9.18846251e-01  5.28461288e-01 ...  1.10894912e+00\n  -3.60968328e-01  1.25433547e+00]\n [ 8.09965107e-01 -9.57875430e-04  5.75116700e-01 ...  9.98085925e-02\n  -1.24154860e+00 -2.55383484e-01]\n [-3.48437071e-01  3.01584511e-01 -2.89304802e-01 ...  8.81382791e-01\n   2.67392607e-01 -1.10580750e-01]] @ var63, 1, False) / Promote(185.0, (4000,)) + Promote(-Sum(Sum([[-1.70199643e+00 -1.81665871e+00 -1.57765705e+00 ...  6.25850084e-01\n   6.38866984e-01  1.19814933e-01]\n [ 9.20582545e-01 -1.99512185e-02 -8.23713722e-01 ... -7.78472889e-01\n   5.33787887e-01 -3.85009218e-01]\n [-1.69474645e+00  9.59712683e-01  1.66404530e+00 ... -7.02003246e-01\n   8.11991820e-02 -6.36092147e-02]\n ...\n [ 2.02561319e-01  9.18846251e-01  5.28461288e-01 ...  1.10894912e+00\n  -3.60968328e-01  1.25433547e+00]\n [ 8.09965107e-01 -9.57875430e-04  5.75116700e-01 ...  9.98085925e-02\n  -1.24154860e+00 -2.55383484e-01]\n [-3.48437071e-01  3.01584511e-01 -2.89304802e-01 ...  8.81382791e-01\n   2.67392607e-01 -1.10580750e-01]] @ var63, 1, False) / Promote(185.0, (4000,)), None, False) / 4000.0, (4000,)), 1.0) / 4000.0)",
     "output_type": "error",
     "traceback": [
      "\u001b[1;31m---------------------------------------------------------------------------\u001b[0m",
      "\u001b[1;31mDCPError\u001b[0m                                  Traceback (most recent call last)",
      "\u001b[1;32m<ipython-input-42-613465fcbb4d>\u001b[0m in \u001b[0;36m<module>\u001b[1;34m\u001b[0m\n\u001b[1;32m----> 1\u001b[1;33m \u001b[0mprob\u001b[0m\u001b[1;33m.\u001b[0m\u001b[0msolve\u001b[0m\u001b[1;33m(\u001b[0m\u001b[1;33m)\u001b[0m\u001b[1;33m\u001b[0m\u001b[1;33m\u001b[0m\u001b[0m\n\u001b[0m",
      "\u001b[1;32m~\\anaconda3\\lib\\site-packages\\cvxpy\\problems\\problem.py\u001b[0m in \u001b[0;36msolve\u001b[1;34m(self, *args, **kwargs)\u001b[0m\n\u001b[0;32m    394\u001b[0m         \u001b[1;32melse\u001b[0m\u001b[1;33m:\u001b[0m\u001b[1;33m\u001b[0m\u001b[1;33m\u001b[0m\u001b[0m\n\u001b[0;32m    395\u001b[0m             \u001b[0msolve_func\u001b[0m \u001b[1;33m=\u001b[0m \u001b[0mProblem\u001b[0m\u001b[1;33m.\u001b[0m\u001b[0m_solve\u001b[0m\u001b[1;33m\u001b[0m\u001b[1;33m\u001b[0m\u001b[0m\n\u001b[1;32m--> 396\u001b[1;33m         \u001b[1;32mreturn\u001b[0m \u001b[0msolve_func\u001b[0m\u001b[1;33m(\u001b[0m\u001b[0mself\u001b[0m\u001b[1;33m,\u001b[0m \u001b[1;33m*\u001b[0m\u001b[0margs\u001b[0m\u001b[1;33m,\u001b[0m \u001b[1;33m**\u001b[0m\u001b[0mkwargs\u001b[0m\u001b[1;33m)\u001b[0m\u001b[1;33m\u001b[0m\u001b[1;33m\u001b[0m\u001b[0m\n\u001b[0m\u001b[0;32m    397\u001b[0m \u001b[1;33m\u001b[0m\u001b[0m\n\u001b[0;32m    398\u001b[0m     \u001b[1;33m@\u001b[0m\u001b[0mclassmethod\u001b[0m\u001b[1;33m\u001b[0m\u001b[1;33m\u001b[0m\u001b[0m\n",
      "\u001b[1;32m~\\anaconda3\\lib\\site-packages\\cvxpy\\problems\\problem.py\u001b[0m in \u001b[0;36m_solve\u001b[1;34m(self, solver, warm_start, verbose, gp, qcp, requires_grad, enforce_dpp, **kwargs)\u001b[0m\n\u001b[0;32m    742\u001b[0m                 \u001b[1;32mreturn\u001b[0m \u001b[0mself\u001b[0m\u001b[1;33m.\u001b[0m\u001b[0mvalue\u001b[0m\u001b[1;33m\u001b[0m\u001b[1;33m\u001b[0m\u001b[0m\n\u001b[0;32m    743\u001b[0m \u001b[1;33m\u001b[0m\u001b[0m\n\u001b[1;32m--> 744\u001b[1;33m         data, solving_chain, inverse_data = self.get_problem_data(\n\u001b[0m\u001b[0;32m    745\u001b[0m             solver, gp, enforce_dpp)\n\u001b[0;32m    746\u001b[0m         solution = solving_chain.solve_via_data(\n",
      "\u001b[1;32m~\\anaconda3\\lib\\site-packages\\cvxpy\\problems\\problem.py\u001b[0m in \u001b[0;36mget_problem_data\u001b[1;34m(self, solver, gp, enforce_dpp)\u001b[0m\n\u001b[0;32m    497\u001b[0m         \u001b[1;32mif\u001b[0m \u001b[0mkey\u001b[0m \u001b[1;33m!=\u001b[0m \u001b[0mself\u001b[0m\u001b[1;33m.\u001b[0m\u001b[0m_cache\u001b[0m\u001b[1;33m.\u001b[0m\u001b[0mkey\u001b[0m\u001b[1;33m:\u001b[0m\u001b[1;33m\u001b[0m\u001b[1;33m\u001b[0m\u001b[0m\n\u001b[0;32m    498\u001b[0m             \u001b[0mself\u001b[0m\u001b[1;33m.\u001b[0m\u001b[0m_cache\u001b[0m\u001b[1;33m.\u001b[0m\u001b[0minvalidate\u001b[0m\u001b[1;33m(\u001b[0m\u001b[1;33m)\u001b[0m\u001b[1;33m\u001b[0m\u001b[1;33m\u001b[0m\u001b[0m\n\u001b[1;32m--> 499\u001b[1;33m             solving_chain = self._construct_chain(\n\u001b[0m\u001b[0;32m    500\u001b[0m                 solver=solver, gp=gp, enforce_dpp=enforce_dpp)\n\u001b[0;32m    501\u001b[0m             \u001b[0mself\u001b[0m\u001b[1;33m.\u001b[0m\u001b[0m_cache\u001b[0m\u001b[1;33m.\u001b[0m\u001b[0mkey\u001b[0m \u001b[1;33m=\u001b[0m \u001b[0mkey\u001b[0m\u001b[1;33m\u001b[0m\u001b[1;33m\u001b[0m\u001b[0m\n",
      "\u001b[1;32m~\\anaconda3\\lib\\site-packages\\cvxpy\\problems\\problem.py\u001b[0m in \u001b[0;36m_construct_chain\u001b[1;34m(self, solver, gp, enforce_dpp)\u001b[0m\n\u001b[0;32m    650\u001b[0m         \"\"\"\n\u001b[0;32m    651\u001b[0m         \u001b[0mcandidate_solvers\u001b[0m \u001b[1;33m=\u001b[0m \u001b[0mself\u001b[0m\u001b[1;33m.\u001b[0m\u001b[0m_find_candidate_solvers\u001b[0m\u001b[1;33m(\u001b[0m\u001b[0msolver\u001b[0m\u001b[1;33m=\u001b[0m\u001b[0msolver\u001b[0m\u001b[1;33m,\u001b[0m \u001b[0mgp\u001b[0m\u001b[1;33m=\u001b[0m\u001b[0mgp\u001b[0m\u001b[1;33m)\u001b[0m\u001b[1;33m\u001b[0m\u001b[1;33m\u001b[0m\u001b[0m\n\u001b[1;32m--> 652\u001b[1;33m         return construct_solving_chain(self, candidate_solvers, gp=gp,\n\u001b[0m\u001b[0;32m    653\u001b[0m                                        enforce_dpp=enforce_dpp)\n\u001b[0;32m    654\u001b[0m \u001b[1;33m\u001b[0m\u001b[0m\n",
      "\u001b[1;32m~\\anaconda3\\lib\\site-packages\\cvxpy\\reductions\\solvers\\solving_chain.py\u001b[0m in \u001b[0;36mconstruct_solving_chain\u001b[1;34m(problem, candidates, gp, enforce_dpp)\u001b[0m\n\u001b[0;32m    149\u001b[0m     \u001b[1;32mif\u001b[0m \u001b[0mlen\u001b[0m\u001b[1;33m(\u001b[0m\u001b[0mproblem\u001b[0m\u001b[1;33m.\u001b[0m\u001b[0mvariables\u001b[0m\u001b[1;33m(\u001b[0m\u001b[1;33m)\u001b[0m\u001b[1;33m)\u001b[0m \u001b[1;33m==\u001b[0m \u001b[1;36m0\u001b[0m\u001b[1;33m:\u001b[0m\u001b[1;33m\u001b[0m\u001b[1;33m\u001b[0m\u001b[0m\n\u001b[0;32m    150\u001b[0m         \u001b[1;32mreturn\u001b[0m \u001b[0mSolvingChain\u001b[0m\u001b[1;33m(\u001b[0m\u001b[0mreductions\u001b[0m\u001b[1;33m=\u001b[0m\u001b[1;33m[\u001b[0m\u001b[0mConstantSolver\u001b[0m\u001b[1;33m(\u001b[0m\u001b[1;33m)\u001b[0m\u001b[1;33m]\u001b[0m\u001b[1;33m)\u001b[0m\u001b[1;33m\u001b[0m\u001b[1;33m\u001b[0m\u001b[0m\n\u001b[1;32m--> 151\u001b[1;33m     \u001b[0mreductions\u001b[0m \u001b[1;33m=\u001b[0m \u001b[0m_reductions_for_problem_class\u001b[0m\u001b[1;33m(\u001b[0m\u001b[0mproblem\u001b[0m\u001b[1;33m,\u001b[0m \u001b[0mcandidates\u001b[0m\u001b[1;33m,\u001b[0m \u001b[0mgp\u001b[0m\u001b[1;33m)\u001b[0m\u001b[1;33m\u001b[0m\u001b[1;33m\u001b[0m\u001b[0m\n\u001b[0m\u001b[0;32m    152\u001b[0m \u001b[1;33m\u001b[0m\u001b[0m\n\u001b[0;32m    153\u001b[0m     \u001b[0mdpp_context\u001b[0m \u001b[1;33m=\u001b[0m \u001b[1;34m'dcp'\u001b[0m \u001b[1;32mif\u001b[0m \u001b[1;32mnot\u001b[0m \u001b[0mgp\u001b[0m \u001b[1;32melse\u001b[0m \u001b[1;34m'dgp'\u001b[0m\u001b[1;33m\u001b[0m\u001b[1;33m\u001b[0m\u001b[0m\n",
      "\u001b[1;32m~\\anaconda3\\lib\\site-packages\\cvxpy\\reductions\\solvers\\solving_chain.py\u001b[0m in \u001b[0;36m_reductions_for_problem_class\u001b[1;34m(problem, candidates, gp)\u001b[0m\n\u001b[0;32m     87\u001b[0m             append += (\"\\nHowever, the problem does follow DQCP rules. \"\n\u001b[0;32m     88\u001b[0m                        \"Consider calling solve() with `qcp=True`.\")\n\u001b[1;32m---> 89\u001b[1;33m         raise DCPError(\n\u001b[0m\u001b[0;32m     90\u001b[0m             \"Problem does not follow DCP rules. Specifically:\\n\" + append)\n\u001b[0;32m     91\u001b[0m     \u001b[1;32melif\u001b[0m \u001b[0mgp\u001b[0m \u001b[1;32mand\u001b[0m \u001b[1;32mnot\u001b[0m \u001b[0mproblem\u001b[0m\u001b[1;33m.\u001b[0m\u001b[0mis_dgp\u001b[0m\u001b[1;33m(\u001b[0m\u001b[1;33m)\u001b[0m\u001b[1;33m:\u001b[0m\u001b[1;33m\u001b[0m\u001b[1;33m\u001b[0m\u001b[0m\n",
      "\u001b[1;31mDCPError\u001b[0m: Problem does not follow DCP rules. Specifically:\nThe objective is not DCP. Its following subexpressions are not:\n-Sum(Sum([[-1.70199643e+00 -1.81665871e+00 -1.57765705e+00 ...  6.25850084e-01\n   6.38866984e-01  1.19814933e-01]\n [ 9.20582545e-01 -1.99512185e-02 -8.23713722e-01 ... -7.78472889e-01\n   5.33787887e-01 -3.85009218e-01]\n [-1.69474645e+00  9.59712683e-01  1.66404530e+00 ... -7.02003246e-01\n   8.11991820e-02 -6.36092147e-02]\n ...\n [ 2.02561319e-01  9.18846251e-01  5.28461288e-01 ...  1.10894912e+00\n  -3.60968328e-01  1.25433547e+00]\n [ 8.09965107e-01 -9.57875430e-04  5.75116700e-01 ...  9.98085925e-02\n  -1.24154860e+00 -2.55383484e-01]\n [-3.48437071e-01  3.01584511e-01 -2.89304802e-01 ...  8.81382791e-01\n   2.67392607e-01 -1.10580750e-01]] @ var63, 1, False) / Promote(185.0, (4000,)), None, False) / 4000.0 @ 15.874507866387544 / (quad_over_lin(Sum([[-1.70199643e+00 -1.81665871e+00 -1.57765705e+00 ...  6.25850084e-01\n   6.38866984e-01  1.19814933e-01]\n [ 9.20582545e-01 -1.99512185e-02 -8.23713722e-01 ... -7.78472889e-01\n   5.33787887e-01 -3.85009218e-01]\n [-1.69474645e+00  9.59712683e-01  1.66404530e+00 ... -7.02003246e-01\n   8.11991820e-02 -6.36092147e-02]\n ...\n [ 2.02561319e-01  9.18846251e-01  5.28461288e-01 ...  1.10894912e+00\n  -3.60968328e-01  1.25433547e+00]\n [ 8.09965107e-01 -9.57875430e-04  5.75116700e-01 ...  9.98085925e-02\n  -1.24154860e+00 -2.55383484e-01]\n [-3.48437071e-01  3.01584511e-01 -2.89304802e-01 ...  8.81382791e-01\n   2.67392607e-01 -1.10580750e-01]] @ var63, 1, False) / Promote(185.0, (4000,)) + Promote(-Sum(Sum([[-1.70199643e+00 -1.81665871e+00 -1.57765705e+00 ...  6.25850084e-01\n   6.38866984e-01  1.19814933e-01]\n [ 9.20582545e-01 -1.99512185e-02 -8.23713722e-01 ... -7.78472889e-01\n   5.33787887e-01 -3.85009218e-01]\n [-1.69474645e+00  9.59712683e-01  1.66404530e+00 ... -7.02003246e-01\n   8.11991820e-02 -6.36092147e-02]\n ...\n [ 2.02561319e-01  9.18846251e-01  5.28461288e-01 ...  1.10894912e+00\n  -3.60968328e-01  1.25433547e+00]\n [ 8.09965107e-01 -9.57875430e-04  5.75116700e-01 ...  9.98085925e-02\n  -1.24154860e+00 -2.55383484e-01]\n [-3.48437071e-01  3.01584511e-01 -2.89304802e-01 ...  8.81382791e-01\n   2.67392607e-01 -1.10580750e-01]] @ var63, 1, False) / Promote(185.0, (4000,)), None, False) / 4000.0, (4000,)), 1.0) / 4000.0)"
     ]
    }
   ],
   "source": [
    "prob.solve()"
   ]
  },
  {
   "cell_type": "code",
   "execution_count": 5,
   "metadata": {},
   "outputs": [
    {
     "data": {
      "text/plain": [
       "Variable((185, 20))"
      ]
     },
     "execution_count": 5,
     "metadata": {},
     "output_type": "execute_result"
    }
   ],
   "source": [
    "beta"
   ]
  },
  {
   "cell_type": "code",
   "execution_count": null,
   "metadata": {},
   "outputs": [],
   "source": [
    "beta = cp.Variable(n)\n",
    "problem = cp.Problem(cp.Minimize(objective_fn(X_train, Y_train, beta, lambd)))"
   ]
  }
 ],
 "metadata": {
  "kernelspec": {
   "display_name": "Python 3",
   "language": "python",
   "name": "python3"
  },
  "language_info": {
   "codemirror_mode": {
    "name": "ipython",
    "version": 3
   },
   "file_extension": ".py",
   "mimetype": "text/x-python",
   "name": "python",
   "nbconvert_exporter": "python",
   "pygments_lexer": "ipython3",
   "version": "3.8.3"
  },
  "varInspector": {
   "cols": {
    "lenName": 16,
    "lenType": 16,
    "lenVar": 40
   },
   "kernels_config": {
    "python": {
     "delete_cmd_postfix": "",
     "delete_cmd_prefix": "del ",
     "library": "var_list.py",
     "varRefreshCmd": "print(var_dic_list())"
    },
    "r": {
     "delete_cmd_postfix": ") ",
     "delete_cmd_prefix": "rm(",
     "library": "var_list.r",
     "varRefreshCmd": "cat(var_dic_list()) "
    }
   },
   "types_to_exclude": [
    "module",
    "function",
    "builtin_function_or_method",
    "instance",
    "_Feature"
   ],
   "window_display": false
  }
 },
 "nbformat": 4,
 "nbformat_minor": 4
}
