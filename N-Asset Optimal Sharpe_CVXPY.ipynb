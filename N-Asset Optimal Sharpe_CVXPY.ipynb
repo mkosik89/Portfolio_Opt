{
 "cells": [
  {
   "cell_type": "code",
   "execution_count": 1,
   "metadata": {},
   "outputs": [],
   "source": [
    "import numpy as np\n",
    "import pandas as pd\n",
    "import matplotlib.pyplot as plt\n",
    "import cvxpy as cp\n",
    "\n",
    "%matplotlib inline"
   ]
  },
  {
   "cell_type": "code",
   "execution_count": 2,
   "metadata": {},
   "outputs": [],
   "source": [
    "# manual 2 asset check\n",
    "def shrp_wts(x1,x2):\n",
    "    x = np.array(x1)\n",
    "    y = np.array(x2)\n",
    "    \n",
    "    r1 = np.mean(x)\n",
    "    r2 = np.mean(y)\n",
    "    var1 = np.var(x)\n",
    "    var2 = np.var(y)\n",
    "    c = np.cov(x,y)[0][1]\n",
    "    \n",
    "    w1  = (r1*var2 - r2*c) / (r1*var2 + r2*var1 - (r1+r2)*c)\n",
    "    \n",
    "    # limit extreme cases, prevent shorting\n",
    "    #if w1<0: w1 = 0\n",
    "    #if w1>1: w1 = 1\n",
    "        \n",
    "    w2 = 1-w1\n",
    "    p = np.dot(np.column_stack((x,y)),np.array([w1,w2]))\n",
    "    shrp = np.mean(p)/np.std(p)\n",
    "    \n",
    "    return (w1,w2,shrp)"
   ]
  },
  {
   "cell_type": "code",
   "execution_count": 3,
   "metadata": {},
   "outputs": [],
   "source": [
    "n=25\n",
    "#np.random.seed(23)\n",
    "\n",
    "x = np.random.normal(.01,.01,n)\n",
    "y = np.random.normal(.01,.004,n)"
   ]
  },
  {
   "cell_type": "code",
   "execution_count": 4,
   "metadata": {},
   "outputs": [
    {
     "data": {
      "text/plain": [
       "(0.14034752204987289, 0.8596524779501271, 2.410533727005176)"
      ]
     },
     "execution_count": 4,
     "metadata": {},
     "output_type": "execute_result"
    }
   ],
   "source": [
    "shrp_wts(x,y)"
   ]
  },
  {
   "cell_type": "code",
   "execution_count": 5,
   "metadata": {
    "code_folding": []
   },
   "outputs": [],
   "source": [
    "# Closed form N asset unconstrained\n",
    "def calc_sharpe(m):\n",
    "    '''Calculates Basic Max Sharpe for N-Asset Portfolio \n",
    "        ignores Rf rate\n",
    "    \n",
    "        array m must be nxm where n= returns, m = assets\n",
    "        \n",
    "        Constraint:\n",
    "        sum(wts) = 1\n",
    "    \n",
    "    \n",
    "        Returns tuple:\n",
    "        ((wts), sharpe)\n",
    "        \n",
    "    '''\n",
    "    cov = np.cov(m.T) #unbiased covariance, ddof=1\n",
    "    u = np.mean(m,axis=0).reshape(-1,1)\n",
    "    ones = np.ones_like(u)\n",
    "\n",
    "    wtC = np.linalg.inv(cov).dot(u) / ones.T.dot(np.linalg.inv(cov)).dot(u)\n",
    "    ret = u.T.dot(wtC)\n",
    "    stdev = np.sqrt(wtC.T.dot(cov).dot(wtC))\n",
    "    sharpe = ret/stdev\n",
    "\n",
    "\n",
    "    return (wtC,sharpe)"
   ]
  },
  {
   "cell_type": "code",
   "execution_count": 6,
   "metadata": {},
   "outputs": [
    {
     "data": {
      "text/plain": [
       "(array([[0.14181029],\n",
       "        [0.85818971]]),\n",
       " array([[2.36184627]]))"
      ]
     },
     "execution_count": 6,
     "metadata": {},
     "output_type": "execute_result"
    }
   ],
   "source": [
    "calc_sharpe(np.vstack((x,y)).T)"
   ]
  },
  {
   "cell_type": "code",
   "execution_count": 7,
   "metadata": {},
   "outputs": [],
   "source": [
    "x = np.random.normal(.01,.01,n)\n",
    "y = np.random.normal(.004,.004,n)\n",
    "z = np.random.normal(.5, .001,n)\n",
    "\n",
    "m=np.vstack([x,y,z]).T\n",
    "u = np.mean(m,axis=0)\n",
    "\n",
    "cov = np.cov(m.T)"
   ]
  },
  {
   "cell_type": "code",
   "execution_count": 8,
   "metadata": {},
   "outputs": [
    {
     "data": {
      "text/plain": [
       "(array([[-0.00506649],\n",
       "        [-0.00581975],\n",
       "        [ 1.01088623]]),\n",
       " array([[457.52355386]]))"
      ]
     },
     "execution_count": 8,
     "metadata": {},
     "output_type": "execute_result"
    }
   ],
   "source": [
    "calc_sharpe(m) #manual closed form"
   ]
  },
  {
   "cell_type": "code",
   "execution_count": 9,
   "metadata": {},
   "outputs": [
    {
     "data": {
      "text/plain": [
       "array([0.01687753, 0.00718387, 0.9759386 ])"
      ]
     },
     "execution_count": 9,
     "metadata": {},
     "output_type": "execute_result"
    }
   ],
   "source": [
    "# Constrained N asset solution using sharpe transformation with cvxpy\n",
    "\n",
    "y = cp.Variable(len(cov))\n",
    "\n",
    "f =cp.quad_form(y, cov)\n",
    "prob = cp.Problem(cp.Minimize(f), \n",
    "               [y@u == 1, \n",
    "                y >= 0\n",
    "                \n",
    "               ])\n",
    "prob.solve()\n",
    "\n",
    "x = y.value/y.value.sum()\n",
    "\n",
    "x\n"
   ]
  },
  {
   "cell_type": "code",
   "execution_count": 10,
   "metadata": {},
   "outputs": [
    {
     "data": {
      "text/plain": [
       "array([0.1, 0.1, 0.8])"
      ]
     },
     "execution_count": 10,
     "metadata": {},
     "output_type": "execute_result"
    }
   ],
   "source": [
    "# Constrained N asset solution using sharpe transformation with cvxpy\n",
    "# Includes min size of .1\n",
    "\n",
    "A = np.asmatrix([[1,0,0],[0,1,0],[0,0,1]])\n",
    "bounds = np.asmatrix([0.1,.1,0.1])\n",
    "A_mod = A - bounds.T\n",
    "\n",
    "\n",
    "y = cp.Variable(len(cov))\n",
    "\n",
    "f =cp.quad_form(y, cov)\n",
    "prob = cp.Problem(cp.Minimize(f), \n",
    "               [y@u == 1, \n",
    "                y >= 0,\n",
    "                A_mod@y.T >= 0\n",
    "               ])\n",
    "prob.solve()\n",
    "\n",
    "x = y.value/y.value.sum()\n",
    "\n",
    "x"
   ]
  },
  {
   "cell_type": "code",
   "execution_count": 11,
   "metadata": {
    "scrolled": false
   },
   "outputs": [
    {
     "name": "stdout",
     "output_type": "stream",
     "text": [
      "[0.1 0.1 0.8]\n",
      "2.244021086610946e-06\n"
     ]
    }
   ],
   "source": [
    "# risk target example\n",
    "A = np.asmatrix([[1,0,0],[0,1,0],[0,0,1]])\n",
    "bounds = np.array([0.1,.1,0.1]) #change to (n,) size \n",
    "\n",
    "w = cp.Variable(len(cov))\n",
    "ret = u.T@w \n",
    "risk = cp.quad_form(w, cov)\n",
    "prob = cp.Problem(cp.Maximize(ret), \n",
    "               [cp.sum(w) == 1, \n",
    "                w >= 0,\n",
    "                risk <= 2,\n",
    "                A@w.T >= bounds\n",
    "               ])\n",
    "\n",
    "prob.solve()\n",
    "\n",
    "print(w.value)\n",
    "print(w.value.T.dot(cov).dot(w.value))"
   ]
  },
  {
   "cell_type": "code",
   "execution_count": 12,
   "metadata": {},
   "outputs": [
    {
     "name": "stdout",
     "output_type": "stream",
     "text": [
      "[0.00294501 0.34190325 0.65515185]\n",
      "2.4761637531643106e-06\n"
     ]
    }
   ],
   "source": [
    "# Max diversification portfolio\n",
    "\n",
    "w = cp.Variable(len(cov))\n",
    "#ret = u.T@w \n",
    "risk = cp.quad_form(w, cov)\n",
    "prob = cp.Problem(cp.Minimize(risk), \n",
    "               [cp.sum(w) == 1, \n",
    "                w >= 0\n",
    "               ])\n",
    "\n",
    "prob.solve()\n",
    "\n",
    "print(w.value)\n",
    "print(w.value.T.dot(cov).dot(w.value))\n",
    "\n"
   ]
  },
  {
   "cell_type": "code",
   "execution_count": null,
   "metadata": {},
   "outputs": [],
   "source": []
  },
  {
   "cell_type": "code",
   "execution_count": null,
   "metadata": {},
   "outputs": [],
   "source": []
  },
  {
   "cell_type": "code",
   "execution_count": null,
   "metadata": {},
   "outputs": [],
   "source": [
    "#Other cvxpy example\n",
    "\n",
    "\n",
    "## OPTIMIZE PORTFOLIO WEIGHTS UNDER THE OBJECTIVE OF MAXIMIZING THE SHARPE RATIO\n",
    "## WHILE CONSTRAINING THE WEIGHTS TO SECTOR BOUNDS\n",
    "## PAPER: # ACCORDING TO: http://people.stat.sc.edu/sshen/events/backtesting/reference/maximizing%20the%20sharpe%20ratio.pdf\n",
    "\n",
    "np.random.seed(101)\n",
    "\n",
    "## NUMBER OF ASSETS\n",
    "n_assets = 4\n",
    "\n",
    "## NUMBER OF OBSERVATIONS\n",
    "n_obs = 1000\n",
    "\n",
    "## GENERATE RANDOM RETURNS\n",
    "return_vec = np.random.randn(n_assets, n_obs)\n",
    "\n",
    "## SET UP PROBLEM\n",
    "C = np.asmatrix(np.cov(return_vec))\n",
    "mu = np.asmatrix(np.mean(return_vec,axis=1))\n",
    "mu0 = np.asmatrix(-0.0075)\n",
    "\n",
    "## INITIATE WEIGHT VARIABLE\n",
    "y = cp.Variable(n_assets)\n",
    "\n",
    "# DEFINE CONSTRAINTS AND MODIFY FOR QUADRATIC PROBLEM\n",
    "A = np.asmatrix([[1,1,0,0],[-1,-1,0,0],[0,0,1,1],[0,0,-1,-1]])\n",
    "bounds = np.asmatrix([0.2,-0.5,0.2,-0.8])\n",
    "A_mod = A - bounds.T\n",
    "\n",
    "## CREATE CONSTRAINTS\n",
    "constraints = [(mu-mu0)@y==1,\n",
    "               y >= 0,\n",
    "               A_mod@y.T >= 0]\n",
    "\n",
    "## FORM OBJECTIVE\n",
    "obj = cp.Minimize(cp.quad_form(y,C))\n",
    "\n",
    "## FORM AND SOLVE PROBLEM\n",
    "prob = cp.Problem(obj, constraints)\n",
    "prob.solve()\n",
    "\n",
    "## TRANSFORM FINAL WEIGHTS\n",
    "w = y.value/sum(y.value)"
   ]
  }
 ],
 "metadata": {
  "kernelspec": {
   "display_name": "Python 3",
   "language": "python",
   "name": "python3"
  },
  "language_info": {
   "codemirror_mode": {
    "name": "ipython",
    "version": 3
   },
   "file_extension": ".py",
   "mimetype": "text/x-python",
   "name": "python",
   "nbconvert_exporter": "python",
   "pygments_lexer": "ipython3",
   "version": "3.6.12"
  },
  "varInspector": {
   "cols": {
    "lenName": 16,
    "lenType": 16,
    "lenVar": 40
   },
   "kernels_config": {
    "python": {
     "delete_cmd_postfix": "",
     "delete_cmd_prefix": "del ",
     "library": "var_list.py",
     "varRefreshCmd": "print(var_dic_list())"
    },
    "r": {
     "delete_cmd_postfix": ") ",
     "delete_cmd_prefix": "rm(",
     "library": "var_list.r",
     "varRefreshCmd": "cat(var_dic_list()) "
    }
   },
   "types_to_exclude": [
    "module",
    "function",
    "builtin_function_or_method",
    "instance",
    "_Feature"
   ],
   "window_display": false
  }
 },
 "nbformat": 4,
 "nbformat_minor": 2
}
