{
 "cells": [
  {
   "cell_type": "code",
   "execution_count": 1,
   "metadata": {},
   "outputs": [],
   "source": [
    "import pandas as pd\n",
    "import numpy as np\n",
    "import scipy.optimize\n",
    "import warnings\n",
    "\n",
    "\n",
    "from pyrb import EqualRiskContribution, RiskBudgeting, RiskBudgetAllocation"
   ]
  },
  {
   "cell_type": "code",
   "execution_count": 2,
   "metadata": {},
   "outputs": [],
   "source": [
    "def calc_weights(cov, x0=None, options=None, scale_factor=10000,\n",
    "                 pcr_tolerance=0.001, ignore_objective=False):\n",
    "    \"\"\"\n",
    "    Calculate the weights associated with the equal risk contribution\n",
    "    portfolio. Refer to \"On the Properties of Equally-Weighted Risk\n",
    "    Contributions Portfolios\" by Maillard, Roncalli, and  Teiletche for\n",
    "    definitions.\n",
    "    Parameters\n",
    "    ----------\n",
    "    cov: numpy.ndarray\n",
    "        (N, N) covariance matrix of assets, must be positive definite\n",
    "    x0: numpy.ndarray\n",
    "        (N,) initial solution guess. If None is given uses inverse of standard\n",
    "        deviation regularized to be between 0 and 1.\n",
    "    options: dictionary\n",
    "        A dictionary of solver options. See scipy.optimize.minimize.\n",
    "    scale_factor: float\n",
    "        Number to scale the optimization function by, can be helpful for\n",
    "        convergence\n",
    "    pcr_tolerance: float\n",
    "        The max allowable tolerance for differences in the PCR coming from\n",
    "        different assets in decimal terms, e.g. 1% would be 0.01\n",
    "    ignore_objective: False\n",
    "        Provided the max difference in PCR satifies pcr_tolerance, ignore\n",
    "        whether the objective function has converged. See Notes below.\n",
    "    Returns\n",
    "    -------\n",
    "    w: numpy.ndarray\n",
    "        (N,) array of asset weights\n",
    "    Notes:\n",
    "    ------\n",
    "    The objective function from the paper embodies but is not exactly\n",
    "    the same as the desired result, which is to have equal risk contributions\n",
    "    in terms of PCR  for each asset. As a result, there are scenarios where the\n",
    "    maxiter will be exceeded (i.e. non convergence) when in fact the goal of\n",
    "    having equal risk contributions within some acceptable tolerance has been\n",
    "    achieved. In these scenaries playing around with 'ftol' and 'maxiter' in\n",
    "    'options' and 'scale_factor' is helpful. The objective function can also\n",
    "    be ignored using ignore_objective=True, meaning the weights will be\n",
    "    returned provided the max PCR tolerance is satiesfied even if the objective\n",
    "    has not converged. See https://github.com/matthewgilbert/erc/issues/1\n",
    "    \"\"\"\n",
    "\n",
    "    # check matrix is PD\n",
    "    np.linalg.cholesky(cov)\n",
    "\n",
    "    if not options:\n",
    "        options = {'ftol': 1e-20, 'maxiter': 800}\n",
    "\n",
    "    def fun(x):\n",
    "        # these are non normalized risk contributions, i.e. not regularized\n",
    "        # by total risk, seems to help numerically\n",
    "        risk_contributions = x.dot(cov) * x\n",
    "        a = np.reshape(risk_contributions, (len(risk_contributions), 1))\n",
    "        # broadcasts so you get pairwise differences in risk contributions\n",
    "        risk_diffs = a - a.transpose()\n",
    "        sum_risk_diffs_squared = np.sum(np.square(np.ravel(risk_diffs)))\n",
    "        # https://stackoverflow.com/a/36685019/1451311\n",
    "        return sum_risk_diffs_squared / scale_factor\n",
    "\n",
    "    N = cov.shape[0]\n",
    "    if x0 is None:\n",
    "        x0 = 1 / np.sqrt(np.diag(cov))\n",
    "        x0 = x0 / x0.sum()\n",
    "\n",
    "    bounds = [(0, 1) for i in range(N)]\n",
    "    constraints = {'type': 'eq', 'fun': lambda x: np.sum(x) - 1}\n",
    "    res = scipy.optimize.minimize(fun, x0, method='SLSQP', bounds=bounds,\n",
    "                                  constraints=constraints,\n",
    "                                  options=options)\n",
    "    weights = res.x\n",
    "    risk_squared = weights.dot(cov).dot(weights)\n",
    "    pcrs = weights.dot(cov) * weights / risk_squared\n",
    "    pcrs = np.reshape(pcrs, (len(pcrs), 1))\n",
    "    pcr_max_diff = np.max(np.abs(pcrs - pcrs.transpose()))\n",
    "    if not res.success:\n",
    "        if ignore_objective and (pcr_max_diff < pcr_tolerance):\n",
    "            return weights\n",
    "        else:\n",
    "            msg = (\"Max difference in percentage contribution to risk \"\n",
    "                   \"in decimals is {0:.2E}, \"\n",
    "                   \"tolerance is {1:.2E}\".format(pcr_max_diff, pcr_tolerance))\n",
    "            warnings.warn(msg)\n",
    "            raise RuntimeError(res)\n",
    "    if pcr_max_diff > pcr_tolerance:\n",
    "        raise RuntimeError(\"Max difference in percentage contribution to risk \"\n",
    "                           \"in decimals is %s which exceeds tolerance of %s.\" %\n",
    "                           (pcr_max_diff, pcr_tolerance))\n",
    "\n",
    "    return weights"
   ]
  },
  {
   "cell_type": "code",
   "execution_count": 3,
   "metadata": {},
   "outputs": [],
   "source": [
    "cov = np.array([[2, 0], [0, 1]])\n",
    "res = calc_weights(cov)\n",
    "pcr = res.dot(cov) * res / (res.dot(cov).dot(res))"
   ]
  },
  {
   "cell_type": "code",
   "execution_count": 4,
   "metadata": {},
   "outputs": [
    {
     "name": "stdout",
     "output_type": "stream",
     "text": [
      "Actual: [0.5 0.5]\n",
      "Predicted: [0.5 0.5]\n"
     ]
    }
   ],
   "source": [
    "print('Actual: {}'.format(pcr))\n",
    "print('Predicted: {}'.format(np.ones(2)/2))"
   ]
  },
  {
   "cell_type": "code",
   "execution_count": 5,
   "metadata": {},
   "outputs": [],
   "source": [
    "np.random.seed(42)\n",
    "# this will be PSD in general, for this seed PD was checked manually\n",
    "A = np.random.randn(10, 10)\n",
    "cov = A.dot(A.transpose())\n",
    "res = calc_weights(cov)\n",
    "pcr = res.dot(cov) * res / (res.dot(cov).dot(res))\n",
    "pcr_exp = np.ones(len(A)) / len(A)\n"
   ]
  },
  {
   "cell_type": "code",
   "execution_count": 8,
   "metadata": {},
   "outputs": [
    {
     "data": {
      "text/plain": [
       "array([0.09999999, 0.09999956, 0.10000052, 0.09999991, 0.0999998 ,\n",
       "       0.09999978, 0.10000027, 0.10000001, 0.0999999 , 0.10000026])"
      ]
     },
     "execution_count": 8,
     "metadata": {},
     "output_type": "execute_result"
    }
   ],
   "source": [
    "pcr"
   ]
  },
  {
   "cell_type": "code",
   "execution_count": 6,
   "metadata": {},
   "outputs": [
    {
     "name": "stdout",
     "output_type": "stream",
     "text": [
      "Actual: [0.09999999 0.09999956 0.10000052 0.09999991 0.0999998  0.09999978\n",
      " 0.10000027 0.10000001 0.0999999  0.10000026]\n",
      "Predicted: [0.1 0.1 0.1 0.1 0.1 0.1 0.1 0.1 0.1 0.1]\n"
     ]
    }
   ],
   "source": [
    "print('Actual: {}'.format(pcr))\n",
    "print('Predicted: {}'.format(np.ones(len(A))/len(A)))"
   ]
  },
  {
   "cell_type": "code",
   "execution_count": 7,
   "metadata": {},
   "outputs": [
    {
     "data": {
      "text/plain": [
       "array([0.12800433, 0.07478389, 0.02192582, 0.07737148, 0.07021499,\n",
       "       0.30410349, 0.09122203, 0.03795839, 0.12980398, 0.06461159])"
      ]
     },
     "execution_count": 7,
     "metadata": {},
     "output_type": "execute_result"
    }
   ],
   "source": [
    "res"
   ]
  },
  {
   "cell_type": "code",
   "execution_count": null,
   "metadata": {},
   "outputs": [],
   "source": [
    "\n"
   ]
  },
  {
   "cell_type": "code",
   "execution_count": 46,
   "metadata": {},
   "outputs": [],
   "source": [
    "# try with pyrb"
   ]
  },
  {
   "cell_type": "code",
   "execution_count": 52,
   "metadata": {},
   "outputs": [],
   "source": [
    "# set risk budget\n",
    "budgets = [0.1,0.1,0.1,0.2,0.2,0.05,0.05,0.05,0.05,0.1]"
   ]
  },
  {
   "cell_type": "code",
   "execution_count": 49,
   "metadata": {},
   "outputs": [],
   "source": [
    "ERC = EqualRiskContribution(cov)\n",
    "ERC.solve()"
   ]
  },
  {
   "cell_type": "code",
   "execution_count": 50,
   "metadata": {},
   "outputs": [
    {
     "data": {
      "text/plain": [
       "array([0.12800218, 0.07478356, 0.02192644, 0.07737002, 0.07021301,\n",
       "       0.30410379, 0.09122209, 0.0379593 , 0.12980594, 0.06461366])"
      ]
     },
     "execution_count": 50,
     "metadata": {},
     "output_type": "execute_result"
    }
   ],
   "source": [
    "ERC.x"
   ]
  },
  {
   "cell_type": "code",
   "execution_count": 51,
   "metadata": {},
   "outputs": [
    {
     "data": {
      "text/plain": [
       "array([0.09999151, 0.10000151, 0.10000332, 0.09999667, 0.09999746,\n",
       "       0.09999869, 0.10000146, 0.10000313, 0.10000311, 0.10000313])"
      ]
     },
     "execution_count": 51,
     "metadata": {},
     "output_type": "execute_result"
    }
   ],
   "source": [
    "ERC.get_risk_contributions()"
   ]
  },
  {
   "cell_type": "code",
   "execution_count": 54,
   "metadata": {},
   "outputs": [],
   "source": [
    "RB = RiskBudgeting(cov,budgets)\n",
    "RB.solve()"
   ]
  },
  {
   "cell_type": "code",
   "execution_count": 55,
   "metadata": {},
   "outputs": [
    {
     "data": {
      "text/plain": [
       "array([0.14139763, 0.06993647, 0.02031686, 0.09673815, 0.10609524,\n",
       "       0.30244623, 0.08329459, 0.02354623, 0.10975172, 0.04647688])"
      ]
     },
     "execution_count": 55,
     "metadata": {},
     "output_type": "execute_result"
    }
   ],
   "source": [
    "RB.x"
   ]
  },
  {
   "cell_type": "code",
   "execution_count": 56,
   "metadata": {},
   "outputs": [
    {
     "data": {
      "text/plain": [
       "array([0.0999918 , 0.10000238, 0.10000359, 0.19999885, 0.19999855,\n",
       "       0.0499976 , 0.05000036, 0.05000174, 0.05000173, 0.10000342])"
      ]
     },
     "execution_count": 56,
     "metadata": {},
     "output_type": "execute_result"
    }
   ],
   "source": [
    "RB.get_risk_contributions()"
   ]
  },
  {
   "cell_type": "code",
   "execution_count": null,
   "metadata": {},
   "outputs": [],
   "source": []
  },
  {
   "cell_type": "code",
   "execution_count": null,
   "metadata": {},
   "outputs": [],
   "source": []
  },
  {
   "cell_type": "code",
   "execution_count": 10,
   "metadata": {
    "code_folding": [
     0
    ]
   },
   "outputs": [],
   "source": [
    "cov = np.array([[ 1.18172492e-05,  1.02638721e-05,  9.51320757e-06,\n",
    "         1.03466520e-05,  8.87293447e-06,  2.90059111e-06,\n",
    "         3.40475492e-06,  8.40904264e-06,  4.62700964e-06,\n",
    "         6.30296648e-06,  6.02767397e-06,  8.97473251e-06,\n",
    "         5.45963932e-06,  1.31006015e-05, -8.17297169e-06,\n",
    "         5.46118683e-07],\n",
    "       [ 1.02638721e-05,  2.47042278e-05,  4.96813675e-06,\n",
    "         1.98193133e-05,  9.47533265e-06, -9.93309829e-07,\n",
    "         6.38099624e-06,  7.82383643e-06,  4.07312122e-06,\n",
    "         5.00038996e-06,  8.38956448e-06,  1.55775458e-05,\n",
    "         1.04467373e-05,  1.30992892e-05, -1.31381537e-05,\n",
    "        -6.88067959e-08],\n",
    "       [ 9.51320757e-06,  4.96813675e-06,  3.00289488e-04,\n",
    "         1.55756263e-05,  2.22765195e-04,  2.08005293e-04,\n",
    "         6.67102033e-05,  1.60641953e-06,  8.81394506e-05,\n",
    "         2.40589483e-04,  1.79006949e-04,  1.63751220e-04,\n",
    "         1.69183824e-04,  8.01956747e-05, -4.70681473e-04,\n",
    "        -7.87545559e-06],\n",
    "       [ 1.03466520e-05,  1.98193133e-05,  1.55756263e-05,\n",
    "         8.29232062e-05,  1.96658502e-05,  8.22902539e-06,\n",
    "         1.39743100e-05,  1.18813550e-05,  7.31503383e-06,\n",
    "         6.70499920e-06,  1.53651426e-05,  2.11974864e-05,\n",
    "         1.95576187e-05,  1.44144769e-05, -2.06931223e-05,\n",
    "         5.84761929e-06],\n",
    "       [ 8.87293447e-06,  9.47533265e-06,  2.22765195e-04,\n",
    "         1.96658502e-05,  2.20230546e-04,  1.91107359e-04,\n",
    "         7.61644303e-05,  3.69853861e-06,  7.53227996e-05,\n",
    "         2.15437300e-04,  1.81033160e-04,  1.55418630e-04,\n",
    "         1.73661912e-04,  7.77463337e-05, -4.61586645e-04,\n",
    "        -5.68000120e-06],\n",
    "       [ 2.90059111e-06, -9.93309829e-07,  2.08005293e-04,\n",
    "         8.22902539e-06,  1.91107359e-04,  2.22051737e-04,\n",
    "         7.79516917e-05, -4.58920253e-06,  7.44737390e-05,\n",
    "         2.32075853e-04,  1.83210592e-04,  1.44393234e-04,\n",
    "         1.87761372e-04,  6.69760865e-05, -5.67142926e-04,\n",
    "        -5.58658601e-06],\n",
    "       [ 3.40475492e-06,  6.38099624e-06,  6.67102033e-05,\n",
    "         1.39743100e-05,  7.61644303e-05,  7.79516917e-05,\n",
    "         1.17404379e-04,  4.99124572e-06,  2.91989905e-05,\n",
    "         8.98400771e-05,  7.80953780e-05,  6.85677360e-05,\n",
    "         8.15845099e-05,  3.79857733e-05, -2.62784130e-04,\n",
    "         5.30739683e-06],\n",
    "       [ 8.40904264e-06,  7.82383643e-06,  1.60641953e-06,\n",
    "         1.18813550e-05,  3.69853861e-06, -4.58920253e-06,\n",
    "         4.99124572e-06,  1.23766466e-05,  6.06263803e-07,\n",
    "        -1.17038130e-06,  6.73600118e-07,  4.17317128e-06,\n",
    "         1.90074460e-07,  1.16202264e-05, -1.92178934e-06,\n",
    "         1.28469153e-06],\n",
    "       [ 4.62700964e-06,  4.07312122e-06,  8.81394506e-05,\n",
    "         7.31503383e-06,  7.53227996e-05,  7.44737390e-05,\n",
    "         2.91989905e-05,  6.06263803e-07,  8.49772946e-05,\n",
    "         8.50394078e-05,  6.63082172e-05,  5.77687090e-05,\n",
    "         6.52970093e-05,  3.17574152e-05, -1.67489894e-04,\n",
    "        -3.83904569e-06],\n",
    "       [ 6.30296648e-06,  5.00038996e-06,  2.40589483e-04,\n",
    "         6.70499920e-06,  2.15437300e-04,  2.32075853e-04,\n",
    "         8.98400771e-05, -1.17038130e-06,  8.50394078e-05,\n",
    "         2.78689303e-04,  2.03322007e-04,  1.67027149e-04,\n",
    "         2.01166648e-04,  8.08468113e-05, -6.08656191e-04,\n",
    "        -7.61676737e-06],\n",
    "       [ 6.02767397e-06,  8.38956448e-06,  1.79006949e-04,\n",
    "         1.53651426e-05,  1.81033160e-04,  1.83210592e-04,\n",
    "         7.80953780e-05,  6.73600118e-07,  6.63082172e-05,\n",
    "         2.03322007e-04,  1.82252367e-04,  1.48034827e-04,\n",
    "         1.81161783e-04,  6.84656934e-05, -4.94712852e-04,\n",
    "        -5.38208243e-06],\n",
    "       [ 8.97473251e-06,  1.55775458e-05,  1.63751220e-04,\n",
    "         2.11974864e-05,  1.55418630e-04,  1.44393234e-04,\n",
    "         6.85677360e-05,  4.17317128e-06,  5.77687090e-05,\n",
    "         1.67027149e-04,  1.48034827e-04,  1.53905166e-04,\n",
    "         1.56289114e-04,  6.50131399e-05, -3.96532141e-04,\n",
    "        -5.56830874e-06],\n",
    "       [ 5.45963932e-06,  1.04467373e-05,  1.69183824e-04,\n",
    "         1.95576187e-05,  1.73661912e-04,  1.87761372e-04,\n",
    "         8.15845099e-05,  1.90074460e-07,  6.52970093e-05,\n",
    "         2.01166648e-04,  1.81161783e-04,  1.56289114e-04,\n",
    "         2.28884146e-04,  7.14533927e-05, -5.26580364e-04,\n",
    "        -6.10826509e-06],\n",
    "       [ 1.31006015e-05,  1.30992892e-05,  8.01956747e-05,\n",
    "         1.44144769e-05,  7.77463337e-05,  6.69760865e-05,\n",
    "         3.79857733e-05,  1.16202264e-05,  3.17574152e-05,\n",
    "         8.08468113e-05,  6.84656934e-05,  6.50131399e-05,\n",
    "         7.14533927e-05,  5.27426342e-05, -1.78980735e-04,\n",
    "        -2.24946360e-06],\n",
    "       [-8.17297169e-06, -1.31381537e-05, -4.70681473e-04,\n",
    "        -2.06931223e-05, -4.61586645e-04, -5.67142926e-04,\n",
    "        -2.62784130e-04, -1.92178934e-06, -1.67489894e-04,\n",
    "        -6.08656191e-04, -4.94712852e-04, -3.96532141e-04,\n",
    "        -5.26580364e-04, -1.78980735e-04,  2.44791520e-03,\n",
    "         5.78398536e-06],\n",
    "       [ 5.46118683e-07, -6.88067959e-08, -7.87545559e-06,\n",
    "         5.84761929e-06, -5.68000120e-06, -5.58658601e-06,\n",
    "         5.30739683e-06,  1.28469153e-06, -3.83904569e-06,\n",
    "        -7.61676737e-06, -5.38208243e-06, -5.56830874e-06,\n",
    "        -6.10826509e-06, -2.24946360e-06,  5.78398536e-06,\n",
    "         1.63382854e-05]])"
   ]
  },
  {
   "cell_type": "code",
   "execution_count": 11,
   "metadata": {},
   "outputs": [
    {
     "data": {
      "text/plain": [
       "(16, 16)"
      ]
     },
     "execution_count": 11,
     "metadata": {},
     "output_type": "execute_result"
    }
   ],
   "source": [
    "cov.shape"
   ]
  },
  {
   "cell_type": "code",
   "execution_count": 23,
   "metadata": {},
   "outputs": [],
   "source": [
    "res = calc_weights(cov,scale_factor=.001,pcr_tolerance=0.1)\n",
    "pcr = res.dot(cov) * res / (res.dot(cov).dot(res))"
   ]
  },
  {
   "cell_type": "code",
   "execution_count": 27,
   "metadata": {},
   "outputs": [
    {
     "data": {
      "text/plain": [
       "array([1.39992864e-01, 1.06187701e-01, 1.95756503e-02, 5.45265253e-02,\n",
       "       2.01581385e-02, 2.27458443e-02, 3.65297833e-02, 1.65322470e-01,\n",
       "       4.85125388e-02, 1.93009764e-02, 2.24942168e-02, 2.40386179e-02,\n",
       "       2.17587346e-02, 3.94169131e-02, 3.27179711e-18, 2.59439026e-01])"
      ]
     },
     "execution_count": 27,
     "metadata": {},
     "output_type": "execute_result"
    }
   ],
   "source": [
    "res"
   ]
  },
  {
   "cell_type": "code",
   "execution_count": null,
   "metadata": {},
   "outputs": [],
   "source": []
  }
 ],
 "metadata": {
  "kernelspec": {
   "display_name": "Python 3",
   "language": "python",
   "name": "python3"
  },
  "language_info": {
   "codemirror_mode": {
    "name": "ipython",
    "version": 3
   },
   "file_extension": ".py",
   "mimetype": "text/x-python",
   "name": "python",
   "nbconvert_exporter": "python",
   "pygments_lexer": "ipython3",
   "version": "3.8.6"
  },
  "varInspector": {
   "cols": {
    "lenName": 16,
    "lenType": 16,
    "lenVar": 40
   },
   "kernels_config": {
    "python": {
     "delete_cmd_postfix": "",
     "delete_cmd_prefix": "del ",
     "library": "var_list.py",
     "varRefreshCmd": "print(var_dic_list())"
    },
    "r": {
     "delete_cmd_postfix": ") ",
     "delete_cmd_prefix": "rm(",
     "library": "var_list.r",
     "varRefreshCmd": "cat(var_dic_list()) "
    }
   },
   "types_to_exclude": [
    "module",
    "function",
    "builtin_function_or_method",
    "instance",
    "_Feature"
   ],
   "window_display": false
  }
 },
 "nbformat": 4,
 "nbformat_minor": 4
}
