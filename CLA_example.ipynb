{
 "cells": [
  {
   "cell_type": "code",
   "execution_count": 48,
   "metadata": {},
   "outputs": [],
   "source": [
    "import pandas as pd\n",
    "import numpy as np\n",
    "import matplotlib.pyplot as plt\n",
    "\n",
    "import CLA\n",
    "\n",
    "np.random.seed(42)\n",
    "\n",
    "%matplotlib inline"
   ]
  },
  {
   "cell_type": "code",
   "execution_count": 77,
   "metadata": {},
   "outputs": [],
   "source": [
    "## NUMBER OF ASSETS  \n",
    "n_assets = 10\n",
    "\n",
    "## NUMBER OF OBSERVATIONS  \n",
    "n_obs = 1000\n",
    "\n",
    "return_vec = np.random.randn(n_assets, n_obs)\n",
    "\n",
    "lB = np.full([1,n_assets],0).T #lower bound on weights\n",
    "uB = np.full([1,n_assets],1).T #upper bound on weights\n",
    "\n",
    "mu = np.mean(return_vec,axis=1).T.reshape(-1,1)\n",
    "covar = np.cov(return_vec)\n",
    "covar = np.tril(covar, k=0)"
   ]
  },
  {
   "cell_type": "code",
   "execution_count": 170,
   "metadata": {},
   "outputs": [],
   "source": [
    "## NUMBER OF ASSETS  \n",
    "n_assets = 10\n",
    "\n",
    "## NUMBER OF OBSERVATIONS  \n",
    "n_obs = 1000\n",
    "\n",
    "return_vec = np.empty([n_obs,n_assets])\n",
    "\n",
    "for i in range(n_assets):\n",
    "    return_vec[:,i] = np.random.normal(np.random.uniform(0,.1),np.random.uniform(0,.1),n_obs)\n",
    "    \n",
    "lB = np.full([1,n_assets],0).T #lower bound on weights\n",
    "uB = np.full([1,n_assets],1).T #upper bound on weights\n",
    "\n",
    "mu = np.mean(return_vec,axis=0).T.reshape(-1,1)\n",
    "covar = np.cov(return_vec.T)\n",
    "covar = np.tril(covar, k=0)\n",
    "    "
   ]
  },
  {
   "cell_type": "code",
   "execution_count": 171,
   "metadata": {},
   "outputs": [
    {
     "data": {
      "text/plain": [
       "(10, 10)"
      ]
     },
     "execution_count": 171,
     "metadata": {},
     "output_type": "execute_result"
    }
   ],
   "source": [
    "covar.shape"
   ]
  },
  {
   "cell_type": "code",
   "execution_count": null,
   "metadata": {},
   "outputs": [],
   "source": []
  },
  {
   "cell_type": "code",
   "execution_count": 172,
   "metadata": {},
   "outputs": [],
   "source": [
    "cla=CLA.CLA(mu,covar,lB,uB)"
   ]
  },
  {
   "cell_type": "code",
   "execution_count": 173,
   "metadata": {},
   "outputs": [],
   "source": [
    "cla.solve()"
   ]
  },
  {
   "cell_type": "code",
   "execution_count": 163,
   "metadata": {},
   "outputs": [],
   "source": [
    " a=np.zeros((cla.mean.shape[0]),dtype=[('id',int),('mu',float)])\n",
    "b=[cla.mean[i][0] for i in range(cla.mean.shape[0])]\n",
    "a[:]=list(zip(range(cla.mean.shape[0]),b))\n",
    "b=np.sort(a,order='mu')\n",
    "i,w=b.shape[0],np.copy(cla.lB)"
   ]
  },
  {
   "cell_type": "code",
   "execution_count": 168,
   "metadata": {},
   "outputs": [],
   "source": [
    "w[b[9][0]]=cla.uB[b[9][0]]"
   ]
  },
  {
   "cell_type": "code",
   "execution_count": 169,
   "metadata": {},
   "outputs": [
    {
     "data": {
      "text/plain": [
       "array([[0],\n",
       "       [0],\n",
       "       [0],\n",
       "       [0],\n",
       "       [0],\n",
       "       [0],\n",
       "       [0],\n",
       "       [0],\n",
       "       [0],\n",
       "       [0]])"
      ]
     },
     "execution_count": 169,
     "metadata": {},
     "output_type": "execute_result"
    }
   ],
   "source": [
    "w"
   ]
  },
  {
   "cell_type": "code",
   "execution_count": null,
   "metadata": {},
   "outputs": [],
   "source": []
  },
  {
   "cell_type": "code",
   "execution_count": null,
   "metadata": {},
   "outputs": [],
   "source": []
  },
  {
   "cell_type": "code",
   "execution_count": 135,
   "metadata": {},
   "outputs": [],
   "source": [
    "mu,sigma,weights=cla.efFrontier(100)"
   ]
  },
  {
   "cell_type": "code",
   "execution_count": 174,
   "metadata": {},
   "outputs": [],
   "source": [
    "sr,w_sr=cla.getMaxSR()"
   ]
  },
  {
   "cell_type": "code",
   "execution_count": 175,
   "metadata": {},
   "outputs": [
    {
     "name": "stdout",
     "output_type": "stream",
     "text": [
      "0.022442123461804887 1.105270883209088\n"
     ]
    }
   ],
   "source": [
    "print(np.dot(np.dot(w_sr.T,cla.covar),w_sr)[0,0]**.5,sr)"
   ]
  },
  {
   "cell_type": "code",
   "execution_count": 176,
   "metadata": {},
   "outputs": [
    {
     "name": "stdout",
     "output_type": "stream",
     "text": [
      "[[0.23606798]\n",
      " [0.        ]\n",
      " [0.        ]\n",
      " [0.        ]\n",
      " [0.        ]\n",
      " [0.        ]\n",
      " [0.        ]\n",
      " [0.        ]\n",
      " [0.        ]\n",
      " [0.        ]]\n"
     ]
    }
   ],
   "source": [
    "print(w_sr)"
   ]
  },
  {
   "cell_type": "code",
   "execution_count": 139,
   "metadata": {},
   "outputs": [],
   "source": [
    "def plot2D(x,y,xLabel='',yLabel='',title='',pathChart=None):\n",
    "    fig=plt.figure()\n",
    "    ax=fig.add_subplot(1,1,1) #one row, one column, first plot\n",
    "    ax.plot(x,y,color='blue')\n",
    "    ax.set_xlabel(xLabel)\n",
    "    ax.set_ylabel(yLabel,rotation=90)\n",
    "    plt.xticks(rotation='vertical')\n",
    "    plt.title(title)\n",
    "    if pathChart==None:\n",
    "        plt.show()\n",
    "    else:\n",
    "        plt.savefig(pathChart)\n",
    "    plt.clf() # reset pylab\n",
    "    return"
   ]
  },
  {
   "cell_type": "code",
   "execution_count": 140,
   "metadata": {},
   "outputs": [
    {
     "data": {
      "image/png": "[encoded data removed]",
      "text/plain": [
       "<Figure size 432x288 with 1 Axes>"
      ]
     },
     "metadata": {
      "needs_background": "light"
     },
     "output_type": "display_data"
    },
    {
     "data": {
      "text/plain": [
       "<Figure size 432x288 with 0 Axes>"
      ]
     },
     "metadata": {},
     "output_type": "display_data"
    }
   ],
   "source": [
    "plot2D(sigma,mu,'Risk','Expected Excess Return','CLA-derived Efficient Frontier')"
   ]
  },
  {
   "cell_type": "code",
   "execution_count": 178,
   "metadata": {},
   "outputs": [
    {
     "data": {
      "text/plain": [
       "array([[0],\n",
       "       [0],\n",
       "       [0],\n",
       "       [0],\n",
       "       [0],\n",
       "       [0],\n",
       "       [0],\n",
       "       [0],\n",
       "       [0],\n",
       "       [0]])"
      ]
     },
     "execution_count": 178,
     "metadata": {},
     "output_type": "execute_result"
    }
   ],
   "source": [
    "cla.w[-1]"
   ]
  },
  {
   "cell_type": "code",
   "execution_count": null,
   "metadata": {},
   "outputs": [],
   "source": []
  }
 ],
 "metadata": {
  "kernelspec": {
   "display_name": "Python 3",
   "language": "python",
   "name": "python3"
  },
  "varInspector": {
   "cols": {
    "lenName": 16,
    "lenType": 16,
    "lenVar": 40
   },
   "kernels_config": {
    "python": {
     "delete_cmd_postfix": "",
     "delete_cmd_prefix": "del ",
     "library": "var_list.py",
     "varRefreshCmd": "print(var_dic_list())"
    },
    "r": {
     "delete_cmd_postfix": ") ",
     "delete_cmd_prefix": "rm(",
     "library": "var_list.r",
     "varRefreshCmd": "cat(var_dic_list()) "
    }
   },
   "types_to_exclude": [
    "module",
    "function",
    "builtin_function_or_method",
    "instance",
    "_Feature"
   ],
   "window_display": false
  }
 },
 "nbformat": 4,
 "nbformat_minor": 2
}
