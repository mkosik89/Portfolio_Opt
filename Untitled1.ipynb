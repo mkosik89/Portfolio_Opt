{
 "cells": [
  {
   "cell_type": "code",
   "execution_count": 299,
   "metadata": {},
   "outputs": [],
   "source": [
    "import numpy as np\n",
    "import pandas as pd\n",
    "import matplotlib.pyplot as plt\n",
    "import seaborn as sns\n",
    "import cvxpy as cp\n",
    "\n",
    "import scipy.stats as st"
   ]
  },
  {
   "cell_type": "code",
   "execution_count": 339,
   "metadata": {},
   "outputs": [],
   "source": [
    "# closed form, unconstrained\n",
    "def calc_sharpe(m):\n",
    "    '''Calculates Basic Max Sharpe for N-Asset Portfolio \n",
    "        ignores Rf rate\n",
    "    \n",
    "        array m must be nxm where n= returns, m = assets\n",
    "        \n",
    "        Constraint:\n",
    "        sum(wts) = 1\n",
    "    \n",
    "    \n",
    "        Returns tuple:\n",
    "        ((wts), sharpe)\n",
    "        \n",
    "    '''\n",
    "    cov = np.cov(m.T) #unbiased covariance, ddof=1\n",
    "    u = np.mean(m,axis=0).reshape(-1,1)\n",
    "    ones = np.ones_like(u)\n",
    "\n",
    "    wtC = np.linalg.inv(cov).dot(u) / ones.T.dot(np.linalg.inv(cov)).dot(u)\n",
    "    ret = u.T.dot(wtC)\n",
    "    stdev = np.sqrt(wtC.T.dot(cov).dot(wtC))\n",
    "    sharpe = ret/stdev\n",
    "\n",
    "\n",
    "    return (wtC,sharpe)\n",
    "\n",
    "def stats(a):\n",
    "    print('Mean: {}'.format(a.mean(axis=0)))\n",
    "    print('Stds: {}'.format(a.std(axis=0)))\n",
    "    print('Sharpes: {}'.format(a.mean(axis=0)/a.std(axis=0)))\n",
    "    print('Skew: {}'.format(st.skew(a)))\n",
    "    print('Kurt: {}'.format(st.kurtosis(a)))\n",
    "    \n",
    "    \n",
    "    \n",
    "    return"
   ]
  },
  {
   "cell_type": "code",
   "execution_count": null,
   "metadata": {},
   "outputs": [],
   "source": []
  },
  {
   "cell_type": "code",
   "execution_count": 585,
   "metadata": {},
   "outputs": [],
   "source": [
    "means = np.array([.05,.05,.05,.05])\n",
    "stds = np.full(len(means),np.sqrt(.05))\n",
    "\n",
    "n = 1000\n",
    "\n",
    "corr = np.identity(len(means))\n",
    "\n",
    "cov = stds*corr*stds"
   ]
  },
  {
   "cell_type": "code",
   "execution_count": 559,
   "metadata": {},
   "outputs": [
    {
     "data": {
      "text/plain": [
       "array([[0.05, 0.  , 0.  , 0.  ],\n",
       "       [0.  , 0.05, 0.  , 0.  ],\n",
       "       [0.  , 0.  , 0.05, 0.  ],\n",
       "       [0.  , 0.  , 0.  , 0.05]])"
      ]
     },
     "execution_count": 559,
     "metadata": {},
     "output_type": "execute_result"
    }
   ],
   "source": [
    "cov"
   ]
  },
  {
   "cell_type": "code",
   "execution_count": 586,
   "metadata": {},
   "outputs": [],
   "source": [
    "data = np.random.multivariate_normal(means,cov,size=(n))"
   ]
  },
  {
   "cell_type": "code",
   "execution_count": 587,
   "metadata": {},
   "outputs": [
    {
     "data": {
      "text/plain": [
       "(1000, 4)"
      ]
     },
     "execution_count": 587,
     "metadata": {},
     "output_type": "execute_result"
    }
   ],
   "source": [
    "data.shape"
   ]
  },
  {
   "cell_type": "code",
   "execution_count": 588,
   "metadata": {},
   "outputs": [
    {
     "data": {
      "text/html": [
       "<div>\n",
       "<style scoped>\n",
       "    .dataframe tbody tr th:only-of-type {\n",
       "        vertical-align: middle;\n",
       "    }\n",
       "\n",
       "    .dataframe tbody tr th {\n",
       "        vertical-align: top;\n",
       "    }\n",
       "\n",
       "    .dataframe thead th {\n",
       "        text-align: right;\n",
       "    }\n",
       "</style>\n",
       "<table border=\"1\" class=\"dataframe\">\n",
       "  <thead>\n",
       "    <tr style=\"text-align: right;\">\n",
       "      <th></th>\n",
       "      <th>0</th>\n",
       "      <th>1</th>\n",
       "      <th>2</th>\n",
       "      <th>3</th>\n",
       "    </tr>\n",
       "  </thead>\n",
       "  <tbody>\n",
       "    <tr>\n",
       "      <th>0</th>\n",
       "      <td>1.000000</td>\n",
       "      <td>-0.017098</td>\n",
       "      <td>-0.005687</td>\n",
       "      <td>-0.059527</td>\n",
       "    </tr>\n",
       "    <tr>\n",
       "      <th>1</th>\n",
       "      <td>-0.017098</td>\n",
       "      <td>1.000000</td>\n",
       "      <td>-0.025187</td>\n",
       "      <td>0.014700</td>\n",
       "    </tr>\n",
       "    <tr>\n",
       "      <th>2</th>\n",
       "      <td>-0.005687</td>\n",
       "      <td>-0.025187</td>\n",
       "      <td>1.000000</td>\n",
       "      <td>-0.010096</td>\n",
       "    </tr>\n",
       "    <tr>\n",
       "      <th>3</th>\n",
       "      <td>-0.059527</td>\n",
       "      <td>0.014700</td>\n",
       "      <td>-0.010096</td>\n",
       "      <td>1.000000</td>\n",
       "    </tr>\n",
       "  </tbody>\n",
       "</table>\n",
       "</div>"
      ],
      "text/plain": [
       "          0         1         2         3\n",
       "0  1.000000 -0.017098 -0.005687 -0.059527\n",
       "1 -0.017098  1.000000 -0.025187  0.014700\n",
       "2 -0.005687 -0.025187  1.000000 -0.010096\n",
       "3 -0.059527  0.014700 -0.010096  1.000000"
      ]
     },
     "execution_count": 588,
     "metadata": {},
     "output_type": "execute_result"
    }
   ],
   "source": [
    "pd.DataFrame(np.corrcoef(data.T))"
   ]
  },
  {
   "cell_type": "code",
   "execution_count": 589,
   "metadata": {},
   "outputs": [
    {
     "data": {
      "text/plain": [
       "(array([[0.20064342],\n",
       "        [0.26058558],\n",
       "        [0.29056652],\n",
       "        [0.24820447]]),\n",
       " array([[0.44498028]]))"
      ]
     },
     "execution_count": 589,
     "metadata": {},
     "output_type": "execute_result"
    }
   ],
   "source": [
    "calc_sharpe(data)"
   ]
  },
  {
   "cell_type": "code",
   "execution_count": null,
   "metadata": {},
   "outputs": [],
   "source": []
  },
  {
   "cell_type": "code",
   "execution_count": 591,
   "metadata": {},
   "outputs": [
    {
     "name": "stdout",
     "output_type": "stream",
     "text": [
      "Mean: 0.03875840246295673\n",
      "Stds: 0.21597374571415773\n",
      "Sharpes: 0.1794588612370212\n",
      "Skew: -1.592293992436093\n",
      "Kurt: 14.031741709211403\n"
     ]
    }
   ],
   "source": [
    "df=3\n",
    "ts = st.t(df=df).rvs((n))*np.sqrt((.05) * (df-2)/df) + .05\n",
    "\n",
    "stats(ts)"
   ]
  },
  {
   "cell_type": "code",
   "execution_count": 592,
   "metadata": {},
   "outputs": [],
   "source": [
    "data2 = np.column_stack((data[:,:3],ts))"
   ]
  },
  {
   "cell_type": "code",
   "execution_count": 593,
   "metadata": {},
   "outputs": [
    {
     "name": "stdout",
     "output_type": "stream",
     "text": [
      "Mean: [0.0367326  0.05105925 0.05183476 0.0387584 ]\n",
      "Stds: [0.22441703 0.22235695 0.21342729 0.21597375]\n",
      "Sharpes: [0.1636801  0.22962739 0.24286847 0.17945886]\n",
      "Skew: [-0.02026294  0.02591142  0.06743744 -1.59229399]\n",
      "Kurt: [-6.03761463e-03  9.02253990e-02 -3.38916589e-01  1.40317417e+01]\n"
     ]
    }
   ],
   "source": [
    "stats(data2)"
   ]
  },
  {
   "cell_type": "code",
   "execution_count": 594,
   "metadata": {},
   "outputs": [
    {
     "data": {
      "text/html": [
       "<div>\n",
       "<style scoped>\n",
       "    .dataframe tbody tr th:only-of-type {\n",
       "        vertical-align: middle;\n",
       "    }\n",
       "\n",
       "    .dataframe tbody tr th {\n",
       "        vertical-align: top;\n",
       "    }\n",
       "\n",
       "    .dataframe thead th {\n",
       "        text-align: right;\n",
       "    }\n",
       "</style>\n",
       "<table border=\"1\" class=\"dataframe\">\n",
       "  <thead>\n",
       "    <tr style=\"text-align: right;\">\n",
       "      <th></th>\n",
       "      <th>0</th>\n",
       "      <th>1</th>\n",
       "      <th>2</th>\n",
       "      <th>3</th>\n",
       "    </tr>\n",
       "  </thead>\n",
       "  <tbody>\n",
       "    <tr>\n",
       "      <th>0</th>\n",
       "      <td>1.000000</td>\n",
       "      <td>-0.017098</td>\n",
       "      <td>-0.005687</td>\n",
       "      <td>0.019319</td>\n",
       "    </tr>\n",
       "    <tr>\n",
       "      <th>1</th>\n",
       "      <td>-0.017098</td>\n",
       "      <td>1.000000</td>\n",
       "      <td>-0.025187</td>\n",
       "      <td>-0.013020</td>\n",
       "    </tr>\n",
       "    <tr>\n",
       "      <th>2</th>\n",
       "      <td>-0.005687</td>\n",
       "      <td>-0.025187</td>\n",
       "      <td>1.000000</td>\n",
       "      <td>0.046557</td>\n",
       "    </tr>\n",
       "    <tr>\n",
       "      <th>3</th>\n",
       "      <td>0.019319</td>\n",
       "      <td>-0.013020</td>\n",
       "      <td>0.046557</td>\n",
       "      <td>1.000000</td>\n",
       "    </tr>\n",
       "  </tbody>\n",
       "</table>\n",
       "</div>"
      ],
      "text/plain": [
       "          0         1         2         3\n",
       "0  1.000000 -0.017098 -0.005687  0.019319\n",
       "1 -0.017098  1.000000 -0.025187 -0.013020\n",
       "2 -0.005687 -0.025187  1.000000  0.046557\n",
       "3  0.019319 -0.013020  0.046557  1.000000"
      ]
     },
     "execution_count": 594,
     "metadata": {},
     "output_type": "execute_result"
    }
   ],
   "source": [
    "pd.DataFrame(np.corrcoef(data2.T))"
   ]
  },
  {
   "cell_type": "code",
   "execution_count": 595,
   "metadata": {},
   "outputs": [
    {
     "data": {
      "text/plain": [
       "(array([[0.19797562],\n",
       "        [0.28991495],\n",
       "        [0.3036743 ],\n",
       "        [0.20843514]]),\n",
       " array([[0.41379508]]))"
      ]
     },
     "execution_count": 595,
     "metadata": {},
     "output_type": "execute_result"
    }
   ],
   "source": [
    "calc_sharpe(data2)"
   ]
  },
  {
   "cell_type": "code",
   "execution_count": 596,
   "metadata": {},
   "outputs": [],
   "source": [
    "# seems like MVO doesn't care about kurtosis"
   ]
  },
  {
   "cell_type": "code",
   "execution_count": 597,
   "metadata": {},
   "outputs": [],
   "source": [
    "wts = np.array([[.25,.25,.25,.25]])"
   ]
  },
  {
   "cell_type": "code",
   "execution_count": 598,
   "metadata": {},
   "outputs": [],
   "source": [
    "dfplot = pd.DataFrame({'Data1':data.dot(wts.T).squeeze(),'Data2':data2.dot(wts.T).squeeze()},index=range(n))"
   ]
  },
  {
   "cell_type": "code",
   "execution_count": 599,
   "metadata": {},
   "outputs": [
    {
     "name": "stdout",
     "output_type": "stream",
     "text": [
      "Mean: Data1    0.047998\n",
      "Data2    0.044596\n",
      "dtype: float64\n",
      "Stds: Data1    0.108795\n",
      "Data2    0.109677\n",
      "dtype: float64\n",
      "Sharpes: Data1    0.441181\n",
      "Data2    0.406613\n",
      "dtype: float64\n",
      "Skew: [-0.00769191 -0.28094061]\n",
      "Kurt: [-0.01189858  0.45284438]\n"
     ]
    }
   ],
   "source": [
    "stats(dfplot)"
   ]
  },
  {
   "cell_type": "code",
   "execution_count": 600,
   "metadata": {},
   "outputs": [
    {
     "data": {
      "text/plain": [
       "<matplotlib.legend.Legend at 0x2316cb4e340>"
      ]
     },
     "execution_count": 600,
     "metadata": {},
     "output_type": "execute_result"
    },
    {
     "data": {
      "image/png": "[encoded data removed]",
      "text/plain": [
       "<Figure size 432x288 with 1 Axes>"
      ]
     },
     "metadata": {
      "needs_background": "light"
     },
     "output_type": "display_data"
    }
   ],
   "source": [
    "fig,ax = plt.subplots()\n",
    "ax.plot(np.exp(dfplot['Data1'].cumsum()),label='Data1')\n",
    "ax.plot(np.exp(dfplot['Data2'].cumsum()),label='Data2')\n",
    "ax.set_yscale('log')\n",
    "ax.legend()"
   ]
  },
  {
   "cell_type": "code",
   "execution_count": 602,
   "metadata": {
    "scrolled": true
   },
   "outputs": [
    {
     "data": {
      "text/plain": [
       "{'Data1': 7.004571298443558e+20, 'Data2': 2.33295407834933e+19}"
      ]
     },
     "execution_count": 602,
     "metadata": {},
     "output_type": "execute_result"
    }
   ],
   "source": [
    "np.exp(dfplot.sum()).to_dict()"
   ]
  },
  {
   "cell_type": "code",
   "execution_count": null,
   "metadata": {},
   "outputs": [],
   "source": []
  },
  {
   "cell_type": "code",
   "execution_count": 657,
   "metadata": {},
   "outputs": [],
   "source": [
    "res = []\n",
    "\n",
    "means = np.array([.05,.05,.05,.05])\n",
    "stds = np.full(len(means),np.sqrt(.05))\n",
    "\n",
    "n = 1000\n",
    "m = 1000\n",
    "\n",
    "corr = np.identity(len(means))\n",
    "\n",
    "cov = stds*corr*stds\n",
    "\n",
    "\n",
    "df=5\n",
    "\n",
    "\n",
    "for i in range(m):\n",
    "    \n",
    "    data = np.random.multivariate_normal(means,cov,size=(n))\n",
    "    ts = st.t(df=df).rvs((n))*np.sqrt((.05) * (df-2)/df) + .05\n",
    "    data2 = np.column_stack((data[:,:3],ts))\n",
    "    dfplot = pd.DataFrame({'Data1':data.dot(wts.T).squeeze(),'Data2':data2.dot(wts.T).squeeze()},index=range(n))\n",
    "    \n",
    "    res.append(np.exp(dfplot.sum()).to_dict())\n",
    "#     print(np.exp(dfplot.sum()).to_dict())\n",
    "    \n",
    "    \n",
    "    \n",
    "res = pd.DataFrame(res)\n",
    "    "
   ]
  },
  {
   "cell_type": "code",
   "execution_count": 658,
   "metadata": {},
   "outputs": [
    {
     "data": {
      "text/html": [
       "<div>\n",
       "<style scoped>\n",
       "    .dataframe tbody tr th:only-of-type {\n",
       "        vertical-align: middle;\n",
       "    }\n",
       "\n",
       "    .dataframe tbody tr th {\n",
       "        vertical-align: top;\n",
       "    }\n",
       "\n",
       "    .dataframe thead th {\n",
       "        text-align: right;\n",
       "    }\n",
       "</style>\n",
       "<table border=\"1\" class=\"dataframe\">\n",
       "  <thead>\n",
       "    <tr style=\"text-align: right;\">\n",
       "      <th></th>\n",
       "      <th>Data1</th>\n",
       "      <th>Data2</th>\n",
       "    </tr>\n",
       "  </thead>\n",
       "  <tbody>\n",
       "    <tr>\n",
       "      <th>count</th>\n",
       "      <td>1.000000e+03</td>\n",
       "      <td>1.000000e+03</td>\n",
       "    </tr>\n",
       "    <tr>\n",
       "      <th>mean</th>\n",
       "      <td>1.561677e+24</td>\n",
       "      <td>2.445599e+24</td>\n",
       "    </tr>\n",
       "    <tr>\n",
       "      <th>std</th>\n",
       "      <td>2.888166e+25</td>\n",
       "      <td>3.491994e+25</td>\n",
       "    </tr>\n",
       "    <tr>\n",
       "      <th>min</th>\n",
       "      <td>1.079933e+17</td>\n",
       "      <td>2.458887e+17</td>\n",
       "    </tr>\n",
       "    <tr>\n",
       "      <th>25%</th>\n",
       "      <td>4.065843e+20</td>\n",
       "      <td>5.227102e+20</td>\n",
       "    </tr>\n",
       "    <tr>\n",
       "      <th>50%</th>\n",
       "      <td>4.108255e+21</td>\n",
       "      <td>4.722539e+21</td>\n",
       "    </tr>\n",
       "    <tr>\n",
       "      <th>75%</th>\n",
       "      <td>4.542258e+22</td>\n",
       "      <td>4.406072e+22</td>\n",
       "    </tr>\n",
       "    <tr>\n",
       "      <th>max</th>\n",
       "      <td>9.035890e+26</td>\n",
       "      <td>9.872042e+26</td>\n",
       "    </tr>\n",
       "  </tbody>\n",
       "</table>\n",
       "</div>"
      ],
      "text/plain": [
       "              Data1         Data2\n",
       "count  1.000000e+03  1.000000e+03\n",
       "mean   1.561677e+24  2.445599e+24\n",
       "std    2.888166e+25  3.491994e+25\n",
       "min    1.079933e+17  2.458887e+17\n",
       "25%    4.065843e+20  5.227102e+20\n",
       "50%    4.108255e+21  4.722539e+21\n",
       "75%    4.542258e+22  4.406072e+22\n",
       "max    9.035890e+26  9.872042e+26"
      ]
     },
     "execution_count": 658,
     "metadata": {},
     "output_type": "execute_result"
    }
   ],
   "source": [
    "res.describe()"
   ]
  },
  {
   "cell_type": "code",
   "execution_count": 619,
   "metadata": {},
   "outputs": [
    {
     "data": {
      "image/png": "[encoded data removed]",
      "text/plain": [
       "<Figure size 432x288 with 2 Axes>"
      ]
     },
     "metadata": {
      "needs_background": "light"
     },
     "output_type": "display_data"
    }
   ],
   "source": [
    "pd.DataFrame(res).hist()\n",
    "plt.xscale('log')"
   ]
  },
  {
   "cell_type": "code",
   "execution_count": null,
   "metadata": {},
   "outputs": [],
   "source": []
  },
  {
   "cell_type": "code",
   "execution_count": null,
   "metadata": {},
   "outputs": [],
   "source": []
  },
  {
   "cell_type": "code",
   "execution_count": 699,
   "metadata": {},
   "outputs": [],
   "source": [
    "x1 = np.random.normal(loc=.1,scale=np.sqrt(5/3),size=10000)\n",
    "x2 = st.t(5,loc=.1).rvs(10000)"
   ]
  },
  {
   "cell_type": "code",
   "execution_count": 701,
   "metadata": {},
   "outputs": [
    {
     "name": "stdout",
     "output_type": "stream",
     "text": [
      "Mean: 0.09202810913508168\n",
      "Stds: 1.2848935474102938\n",
      "Sharpes: 0.07162313899121414\n",
      "Skew: -0.01905564900746621\n",
      "Kurt: -0.03730498815486172\n",
      "\n",
      "Mean: 0.1025233526743812\n",
      "Stds: 1.2941929377642112\n",
      "Sharpes: 0.07921798186559098\n",
      "Skew: -0.17973489495512\n",
      "Kurt: 3.317988984543744\n"
     ]
    }
   ],
   "source": [
    "stats(x1)\n",
    "print()\n",
    "stats(x2)"
   ]
  },
  {
   "cell_type": "code",
   "execution_count": null,
   "metadata": {},
   "outputs": [],
   "source": []
  },
  {
   "cell_type": "code",
   "execution_count": null,
   "metadata": {},
   "outputs": [],
   "source": []
  },
  {
   "cell_type": "code",
   "execution_count": 665,
   "metadata": {
    "scrolled": true
   },
   "outputs": [
    {
     "data": {
      "text/html": [
       "<div>\n",
       "<style scoped>\n",
       "    .dataframe tbody tr th:only-of-type {\n",
       "        vertical-align: middle;\n",
       "    }\n",
       "\n",
       "    .dataframe tbody tr th {\n",
       "        vertical-align: top;\n",
       "    }\n",
       "\n",
       "    .dataframe thead th {\n",
       "        text-align: right;\n",
       "    }\n",
       "</style>\n",
       "<table border=\"1\" class=\"dataframe\">\n",
       "  <thead>\n",
       "    <tr style=\"text-align: right;\">\n",
       "      <th></th>\n",
       "      <th>Data1</th>\n",
       "      <th>Data2</th>\n",
       "    </tr>\n",
       "  </thead>\n",
       "  <tbody>\n",
       "    <tr>\n",
       "      <th>count</th>\n",
       "      <td>1.000000e+03</td>\n",
       "      <td>1.000000e+03</td>\n",
       "    </tr>\n",
       "    <tr>\n",
       "      <th>mean</th>\n",
       "      <td>4.842853e+27</td>\n",
       "      <td>2.133382e+31</td>\n",
       "    </tr>\n",
       "    <tr>\n",
       "      <th>std</th>\n",
       "      <td>6.364845e+28</td>\n",
       "      <td>6.744945e+32</td>\n",
       "    </tr>\n",
       "    <tr>\n",
       "      <th>min</th>\n",
       "      <td>3.660911e+11</td>\n",
       "      <td>1.397669e+12</td>\n",
       "    </tr>\n",
       "    <tr>\n",
       "      <th>25%</th>\n",
       "      <td>3.575589e+19</td>\n",
       "      <td>4.675151e+19</td>\n",
       "    </tr>\n",
       "    <tr>\n",
       "      <th>50%</th>\n",
       "      <td>5.356771e+21</td>\n",
       "      <td>6.886969e+21</td>\n",
       "    </tr>\n",
       "    <tr>\n",
       "      <th>75%</th>\n",
       "      <td>5.874237e+23</td>\n",
       "      <td>6.118116e+23</td>\n",
       "    </tr>\n",
       "    <tr>\n",
       "      <th>max</th>\n",
       "      <td>1.373630e+30</td>\n",
       "      <td>2.132939e+34</td>\n",
       "    </tr>\n",
       "  </tbody>\n",
       "</table>\n",
       "</div>"
      ],
      "text/plain": [
       "              Data1         Data2\n",
       "count  1.000000e+03  1.000000e+03\n",
       "mean   4.842853e+27  2.133382e+31\n",
       "std    6.364845e+28  6.744945e+32\n",
       "min    3.660911e+11  1.397669e+12\n",
       "25%    3.575589e+19  4.675151e+19\n",
       "50%    5.356771e+21  6.886969e+21\n",
       "75%    5.874237e+23  6.118116e+23\n",
       "max    1.373630e+30  2.132939e+34"
      ]
     },
     "execution_count": 665,
     "metadata": {},
     "output_type": "execute_result"
    }
   ],
   "source": [
    "res = []\n",
    "kurt = []\n",
    "\n",
    "means = np.array([.05])\n",
    "stds = np.full(len(means),np.sqrt(.05))\n",
    "\n",
    "n = 1000\n",
    "m = 1000\n",
    "\n",
    "corr = np.identity(len(means))\n",
    "\n",
    "cov = stds*corr*stds\n",
    "\n",
    "\n",
    "df=5\n",
    "\n",
    "\n",
    "for i in range(m):\n",
    "    \n",
    "    data = np.random.normal(loc=means,scale = stds,size=(n))\n",
    "    ts = st.t(df=df).rvs((n))*np.sqrt((.05) * (df-2)/df) + .05\n",
    "    data2 = ts\n",
    "    dfplot = pd.DataFrame({'Data1':data,'Data2':data2},index=range(n))\n",
    "    \n",
    "    res.append(np.exp(dfplot.sum()).to_dict())\n",
    "#     print(np.exp(dfplot.sum()).to_dict())\n",
    "    kurt.append(dict(zip(['Data1','Data2'],st.kurtosis(dfplot))))\n",
    "    \n",
    "    \n",
    "    \n",
    "res = pd.DataFrame(res)\n",
    "res.describe()"
   ]
  },
  {
   "cell_type": "code",
   "execution_count": 662,
   "metadata": {},
   "outputs": [
    {
     "data": {
      "text/plain": [
       "array([0.04537893, 4.63318649])"
      ]
     },
     "execution_count": 662,
     "metadata": {},
     "output_type": "execute_result"
    }
   ],
   "source": [
    "st.kurtosis(dfplot)"
   ]
  },
  {
   "cell_type": "code",
   "execution_count": 664,
   "metadata": {},
   "outputs": [
    {
     "data": {
      "text/plain": [
       "{'Data1': 0.04537892731528537, 'Data2': 4.633186487839874}"
      ]
     },
     "execution_count": 664,
     "metadata": {},
     "output_type": "execute_result"
    }
   ],
   "source": [
    "dict(zip(['Data1','Data2'],st.kurtosis(dfplot)))"
   ]
  },
  {
   "cell_type": "code",
   "execution_count": null,
   "metadata": {},
   "outputs": [],
   "source": []
  }
 ],
 "metadata": {
  "kernelspec": {
   "display_name": "Python 3",
   "language": "python",
   "name": "python3"
  },
  "language_info": {
   "codemirror_mode": {
    "name": "ipython",
    "version": 3
   },
   "file_extension": ".py",
   "mimetype": "text/x-python",
   "name": "python",
   "nbconvert_exporter": "python",
   "pygments_lexer": "ipython3",
   "version": "3.8.3"
  },
  "varInspector": {
   "cols": {
    "lenName": 16,
    "lenType": 16,
    "lenVar": 40
   },
   "kernels_config": {
    "python": {
     "delete_cmd_postfix": "",
     "delete_cmd_prefix": "del ",
     "library": "var_list.py",
     "varRefreshCmd": "print(var_dic_list())"
    },
    "r": {
     "delete_cmd_postfix": ") ",
     "delete_cmd_prefix": "rm(",
     "library": "var_list.r",
     "varRefreshCmd": "cat(var_dic_list()) "
    }
   },
   "types_to_exclude": [
    "module",
    "function",
    "builtin_function_or_method",
    "instance",
    "_Feature"
   ],
   "window_display": false
  }
 },
 "nbformat": 4,
 "nbformat_minor": 4
}
